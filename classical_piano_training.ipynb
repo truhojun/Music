{
  "cells": [
    {
      "cell_type": "code",
      "execution_count": null,
      "metadata": {
        "id": "ABns_Oe3fYCs"
      },
      "outputs": [],
      "source": [
        "!git clone https://github.com/Skuldur/Classical-Piano-Composer"
      ]
    },
    {
      "cell_type": "code",
      "execution_count": null,
      "metadata": {
        "id": "U9OafAZq1KtC"
      },
      "outputs": [],
      "source": [
        "cd Classical-Piano-Composer"
      ]
    },
    {
      "cell_type": "code",
      "execution_count": null,
      "metadata": {
        "colab": {
          "background_save": true
        },
        "id": "r3bs-TiEgCSB"
      },
      "outputs": [],
      "source": [
        "!python lstm.py"
      ]
    }
  ],
  "metadata": {
    "colab": {
      "collapsed_sections": [],
      "name": "classical_piano_training.ipynb",
      "provenance": []
    },
    "kernelspec": {
      "display_name": "Python 3",
      "name": "python3"
    },
    "language_info": {
      "name": "python"
    }
  },
  "nbformat": 4,
  "nbformat_minor": 0
}