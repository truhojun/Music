{
  "cells": [
    {
      "cell_type": "code",
      "execution_count": null,
      "metadata": {
        "id": "J1eV7x5Ngiys"
      },
      "outputs": [],
      "source": [
        "!git clone https://github.com/Skuldur/Classical-Piano-Composer"
      ]
    },
    {
      "cell_type": "code",
      "execution_count": null,
      "metadata": {
        "id": "00-SoZzdgvgO"
      },
      "outputs": [],
      "source": [
        "cd Classical-Piano-Composer/"
      ]
    },
    {
      "cell_type": "code",
      "execution_count": null,
      "metadata": {
        "id": "hSVr2psThDei"
      },
      "outputs": [],
      "source": [
        "!python predict.py"
      ]
    }
  ],
  "metadata": {
    "colab": {
      "collapsed_sections": [],
      "name": "classical-piano-predict.ipynb",
      "provenance": []
    },
    "kernelspec": {
      "display_name": "Python 3",
      "name": "python3"
    },
    "language_info": {
      "name": "python"
    }
  },
  "nbformat": 4,
  "nbformat_minor": 0
}